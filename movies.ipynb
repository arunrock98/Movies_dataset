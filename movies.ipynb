{
 "metadata": {
  "language_info": {
   "codemirror_mode": {
    "name": "ipython",
    "version": 3
   },
   "file_extension": ".py",
   "mimetype": "text/x-python",
   "name": "python",
   "nbconvert_exporter": "python",
   "pygments_lexer": "ipython3",
   "version": "3.7.4-final"
  },
  "orig_nbformat": 2,
  "kernelspec": {
   "name": "python3",
   "display_name": "Python 3",
   "language": "python"
  }
 },
 "nbformat": 4,
 "nbformat_minor": 2,
 "cells": [
  {
   "cell_type": "code",
   "execution_count": 6,
   "metadata": {},
   "outputs": [],
   "source": [
    "import pandas as pd\n",
    "\n",
    "# import data frame\n",
    "df = pd.read_csv('https://gist.githubusercontent.com/tiangechen/b68782efa49a16edaf07dc2cdaa855ea/raw/0c794a9717f18b094eabab2cd6a6b9a226903577/movies.csv')"
   ]
  },
  {
   "cell_type": "code",
   "execution_count": 8,
   "metadata": {},
   "outputs": [
    {
     "output_type": "execute_result",
     "data": {
      "text/plain": [
       "                                  Film    Genre            Lead Studio  \\\n",
       "0           Zack and Miri Make a Porno  Romance  The Weinstein Company   \n",
       "1                      Youth in Revolt   Comedy  The Weinstein Company   \n",
       "2   You Will Meet a Tall Dark Stranger   Comedy            Independent   \n",
       "3                         When in Rome   Comedy                 Disney   \n",
       "4                What Happens in Vegas   Comedy                    Fox   \n",
       "..                                 ...      ...                    ...   \n",
       "72                 Across the Universe  romance            Independent   \n",
       "73                       A Serious Man    Drama              Universal   \n",
       "74                  A Dangerous Method    Drama            Independent   \n",
       "75                          27 Dresses   Comedy                    Fox   \n",
       "76                (500) Days of Summer   comedy                    Fox   \n",
       "\n",
       "    Audience score %  Profitability  Rotten Tomatoes % Worldwide Gross  Year  \n",
       "0                 70       1.747542                 64         $41.94   2008  \n",
       "1                 52       1.090000                 68         $19.62   2010  \n",
       "2                 35       1.211818                 43         $26.66   2010  \n",
       "3                 44       0.000000                 15         $43.04   2010  \n",
       "4                 72       6.267647                 28        $219.37   2008  \n",
       "..               ...            ...                ...             ...   ...  \n",
       "72                84       0.652603                 54         $29.37   2007  \n",
       "73                64       4.382857                 89         $30.68   2009  \n",
       "74                89       0.448645                 79          $8.97   2011  \n",
       "75                71       5.343622                 40        $160.31   2008  \n",
       "76                81       8.096000                 87         $60.72   2009  \n",
       "\n",
       "[77 rows x 8 columns]"
      ],
      "text/html": "<div>\n<style scoped>\n    .dataframe tbody tr th:only-of-type {\n        vertical-align: middle;\n    }\n\n    .dataframe tbody tr th {\n        vertical-align: top;\n    }\n\n    .dataframe thead th {\n        text-align: right;\n    }\n</style>\n<table border=\"1\" class=\"dataframe\">\n  <thead>\n    <tr style=\"text-align: right;\">\n      <th></th>\n      <th>Film</th>\n      <th>Genre</th>\n      <th>Lead Studio</th>\n      <th>Audience score %</th>\n      <th>Profitability</th>\n      <th>Rotten Tomatoes %</th>\n      <th>Worldwide Gross</th>\n      <th>Year</th>\n    </tr>\n  </thead>\n  <tbody>\n    <tr>\n      <td>0</td>\n      <td>Zack and Miri Make a Porno</td>\n      <td>Romance</td>\n      <td>The Weinstein Company</td>\n      <td>70</td>\n      <td>1.747542</td>\n      <td>64</td>\n      <td>$41.94</td>\n      <td>2008</td>\n    </tr>\n    <tr>\n      <td>1</td>\n      <td>Youth in Revolt</td>\n      <td>Comedy</td>\n      <td>The Weinstein Company</td>\n      <td>52</td>\n      <td>1.090000</td>\n      <td>68</td>\n      <td>$19.62</td>\n      <td>2010</td>\n    </tr>\n    <tr>\n      <td>2</td>\n      <td>You Will Meet a Tall Dark Stranger</td>\n      <td>Comedy</td>\n      <td>Independent</td>\n      <td>35</td>\n      <td>1.211818</td>\n      <td>43</td>\n      <td>$26.66</td>\n      <td>2010</td>\n    </tr>\n    <tr>\n      <td>3</td>\n      <td>When in Rome</td>\n      <td>Comedy</td>\n      <td>Disney</td>\n      <td>44</td>\n      <td>0.000000</td>\n      <td>15</td>\n      <td>$43.04</td>\n      <td>2010</td>\n    </tr>\n    <tr>\n      <td>4</td>\n      <td>What Happens in Vegas</td>\n      <td>Comedy</td>\n      <td>Fox</td>\n      <td>72</td>\n      <td>6.267647</td>\n      <td>28</td>\n      <td>$219.37</td>\n      <td>2008</td>\n    </tr>\n    <tr>\n      <td>...</td>\n      <td>...</td>\n      <td>...</td>\n      <td>...</td>\n      <td>...</td>\n      <td>...</td>\n      <td>...</td>\n      <td>...</td>\n      <td>...</td>\n    </tr>\n    <tr>\n      <td>72</td>\n      <td>Across the Universe</td>\n      <td>romance</td>\n      <td>Independent</td>\n      <td>84</td>\n      <td>0.652603</td>\n      <td>54</td>\n      <td>$29.37</td>\n      <td>2007</td>\n    </tr>\n    <tr>\n      <td>73</td>\n      <td>A Serious Man</td>\n      <td>Drama</td>\n      <td>Universal</td>\n      <td>64</td>\n      <td>4.382857</td>\n      <td>89</td>\n      <td>$30.68</td>\n      <td>2009</td>\n    </tr>\n    <tr>\n      <td>74</td>\n      <td>A Dangerous Method</td>\n      <td>Drama</td>\n      <td>Independent</td>\n      <td>89</td>\n      <td>0.448645</td>\n      <td>79</td>\n      <td>$8.97</td>\n      <td>2011</td>\n    </tr>\n    <tr>\n      <td>75</td>\n      <td>27 Dresses</td>\n      <td>Comedy</td>\n      <td>Fox</td>\n      <td>71</td>\n      <td>5.343622</td>\n      <td>40</td>\n      <td>$160.31</td>\n      <td>2008</td>\n    </tr>\n    <tr>\n      <td>76</td>\n      <td>(500) Days of Summer</td>\n      <td>comedy</td>\n      <td>Fox</td>\n      <td>81</td>\n      <td>8.096000</td>\n      <td>87</td>\n      <td>$60.72</td>\n      <td>2009</td>\n    </tr>\n  </tbody>\n</table>\n<p>77 rows × 8 columns</p>\n</div>"
     },
     "metadata": {},
     "execution_count": 8
    }
   ],
   "source": [
    "df"
   ]
  },
  {
   "cell_type": "code",
   "execution_count": 9,
   "metadata": {},
   "outputs": [
    {
     "output_type": "stream",
     "name": "stdout",
     "text": [
      "First 10 rows of the DataFrame:\n                                 Film      Genre            Lead Studio  \\\n0          Zack and Miri Make a Porno    Romance  The Weinstein Company   \n1                     Youth in Revolt     Comedy  The Weinstein Company   \n2  You Will Meet a Tall Dark Stranger     Comedy            Independent   \n3                        When in Rome     Comedy                 Disney   \n4               What Happens in Vegas     Comedy                    Fox   \n5                 Water For Elephants      Drama       20th Century Fox   \n6                              WALL-E  Animation                 Disney   \n7                            Waitress    Romance            Independent   \n8                 Waiting For Forever    Romance            Independent   \n9                     Valentine's Day     Comedy           Warner Bros.   \n\n   Audience score %  Profitability  Rotten Tomatoes % Worldwide Gross  Year  \n0                70       1.747542                 64         $41.94   2008  \n1                52       1.090000                 68         $19.62   2010  \n2                35       1.211818                 43         $26.66   2010  \n3                44       0.000000                 15         $43.04   2010  \n4                72       6.267647                 28        $219.37   2008  \n5                72       3.081421                 60        $117.09   2011  \n6                89       2.896019                 96        $521.28   2008  \n7                67      11.089741                 89         $22.18   2007  \n8                53       0.005000                  6          $0.03   2011  \n9                54       4.184038                 17        $217.57   2010  \n"
     ]
    }
   ],
   "source": [
    "# printing first 10 recordsr\n",
    "first_records = df.head(10)\n",
    "print(\"First 10 rows of the DataFrame:\")\n",
    "print(first_records)"
   ]
  },
  {
   "cell_type": "code",
   "execution_count": 10,
   "metadata": {},
   "outputs": [
    {
     "output_type": "stream",
     "name": "stdout",
     "text": [
      "Data types of the columns in the dataset\nFilm                  object\nGenre                 object\nLead Studio           object\nAudience score %       int64\nProfitability        float64\nRotten Tomatoes %      int64\nWorldwide Gross       object\nYear                   int64\ndtype: object\n"
     ]
    }
   ],
   "source": [
    "# find the data types of the coloumn\n",
    "\n",
    "Movies_datatypes = df.dtypes\n",
    "print('Data types of the columns in the dataset')\n",
    "print(Movies_datatypes)"
   ]
  },
  {
   "cell_type": "code",
   "execution_count": 20,
   "metadata": {},
   "outputs": [
    {
     "output_type": "stream",
     "name": "stdout",
     "text": [
      "total No.of Animation Movies are  4\n6                WALL-E\n22              Tangled\n64    Gnomeo and Juliet\n65    Gnomeo and Juliet\nName: Film, dtype: object\n"
     ]
    }
   ],
   "source": [
    "# Animation movies - Count\n",
    "Ani_movies = df[df['Genre'] == 'Animation']['Film']\n",
    "print('total No.of Animation Movies are ', Ani_movies.count())\n",
    "print(Ani_movies)\n"
   ]
  },
  {
   "cell_type": "code",
   "execution_count": 12,
   "metadata": {},
   "outputs": [],
   "source": [
    "n = df.Genre.nunique()"
   ]
  },
  {
   "cell_type": "code",
   "execution_count": 13,
   "metadata": {},
   "outputs": [
    {
     "output_type": "execute_result",
     "data": {
      "text/plain": [
       "53.246753246753244"
      ]
     },
     "metadata": {},
     "execution_count": 13
    }
   ],
   "source": [
    "((df[df['Genre'] == 'Comedy']['Film'].count()) / (df['Film'].count()))*100 "
   ]
  },
  {
   "cell_type": "code",
   "execution_count": 14,
   "metadata": {},
   "outputs": [
    {
     "output_type": "stream",
     "name": "stdout",
     "text": [
      "                  Film   Genre   Lead Studio  Audience score %  Profitability  \\\n18  The Heartbreak Kid  Comedy     Paramount                41       2.129444   \n36     No Reservations  Comedy  Warner Bros.                64       3.307180   \n51      License to Wed  Comedy  Warner Bros.                55       1.980206   \n54          Knocked Up  Comedy     Universal                83       6.636402   \n62     Good Luck Chuck  Comedy     Lionsgate                61       2.367685   \n69           Enchanted  Comedy        Disney                80       4.005737   \n\n    Rotten Tomatoes % Worldwide Gross  Year  \n18                 30        $127.77   2007  \n36                 39         $92.60   2007  \n51                  8         $69.31   2007  \n54                 91           $219   2007  \n62                  3         $59.19   2007  \n69                 93        $340.49   2007  \n"
     ]
    }
   ],
   "source": [
    "# comedy movies released on 2007\n",
    "comedy_movies = df[(df['Year'] == 2007) & (df['Genre'] == 'Comedy')]\n",
    "print(comedy_movies)"
   ]
  },
  {
   "cell_type": "code",
   "execution_count": 19,
   "metadata": {},
   "outputs": [
    {
     "output_type": "stream",
     "name": "stdout",
     "text": [
      "6      WALL-E\n22    Tangled\nName: Film, dtype: object\nNo.of Animation movies scored more than 70 =  2\n"
     ]
    }
   ],
   "source": [
    "\n",
    "# Animation movies have more thatn 70% Audience score\n",
    "AniMov_70 = df.loc[(df['Genre'] == 'Animation') & (df['Audience score %'] >70)]['Film']\n",
    "print(AniMov_70)\n",
    "print('No.of Animation movies scored more than 70 = ' ,  AniMov_70.count())\n"
   ]
  },
  {
   "cell_type": "code",
   "execution_count": 16,
   "metadata": {},
   "outputs": [
    {
     "output_type": "execute_result",
     "data": {
      "text/plain": [
       "                                  Film    Genre  Lead Studio  \\\n",
       "68                           Fireproof    Drama  Independent   \n",
       "60  High School Musical 3: Senior Year   Comedy       Disney   \n",
       "14         The Twilight Saga: New Moon    Drama       Summit   \n",
       "7                             Waitress  Romance  Independent   \n",
       "12                            Twilight  Romance       Summit   \n",
       "\n",
       "    Audience score %  Profitability  Rotten Tomatoes % Worldwide Gross  Year  \n",
       "68                51      66.934000                 40         $33.47   2008  \n",
       "60                76      22.913136                 65        $252.04   2008  \n",
       "14                78      14.196400                 27        $709.82   2009  \n",
       "7                 67      11.089741                 89         $22.18   2007  \n",
       "12                82      10.180027                 49        $376.66   2008  "
      ],
      "text/html": "<div>\n<style scoped>\n    .dataframe tbody tr th:only-of-type {\n        vertical-align: middle;\n    }\n\n    .dataframe tbody tr th {\n        vertical-align: top;\n    }\n\n    .dataframe thead th {\n        text-align: right;\n    }\n</style>\n<table border=\"1\" class=\"dataframe\">\n  <thead>\n    <tr style=\"text-align: right;\">\n      <th></th>\n      <th>Film</th>\n      <th>Genre</th>\n      <th>Lead Studio</th>\n      <th>Audience score %</th>\n      <th>Profitability</th>\n      <th>Rotten Tomatoes %</th>\n      <th>Worldwide Gross</th>\n      <th>Year</th>\n    </tr>\n  </thead>\n  <tbody>\n    <tr>\n      <td>68</td>\n      <td>Fireproof</td>\n      <td>Drama</td>\n      <td>Independent</td>\n      <td>51</td>\n      <td>66.934000</td>\n      <td>40</td>\n      <td>$33.47</td>\n      <td>2008</td>\n    </tr>\n    <tr>\n      <td>60</td>\n      <td>High School Musical 3: Senior Year</td>\n      <td>Comedy</td>\n      <td>Disney</td>\n      <td>76</td>\n      <td>22.913136</td>\n      <td>65</td>\n      <td>$252.04</td>\n      <td>2008</td>\n    </tr>\n    <tr>\n      <td>14</td>\n      <td>The Twilight Saga: New Moon</td>\n      <td>Drama</td>\n      <td>Summit</td>\n      <td>78</td>\n      <td>14.196400</td>\n      <td>27</td>\n      <td>$709.82</td>\n      <td>2009</td>\n    </tr>\n    <tr>\n      <td>7</td>\n      <td>Waitress</td>\n      <td>Romance</td>\n      <td>Independent</td>\n      <td>67</td>\n      <td>11.089741</td>\n      <td>89</td>\n      <td>$22.18</td>\n      <td>2007</td>\n    </tr>\n    <tr>\n      <td>12</td>\n      <td>Twilight</td>\n      <td>Romance</td>\n      <td>Summit</td>\n      <td>82</td>\n      <td>10.180027</td>\n      <td>49</td>\n      <td>$376.66</td>\n      <td>2008</td>\n    </tr>\n  </tbody>\n</table>\n</div>"
     },
     "metadata": {},
     "execution_count": 16
    }
   ],
   "source": [
    "# Top 5  profitability movies\n",
    "df.sort_values(by = 'Profitability', ascending = False ).head(5)"
   ]
  },
  {
   "cell_type": "code",
   "execution_count": 17,
   "metadata": {},
   "outputs": [
    {
     "output_type": "stream",
     "name": "stdout",
     "text": [
      "                     Film   Genre   Lead Studio  Audience score %  \\\n4   What Happens in Vegas  Comedy           Fox                72   \n16           The Proposal  Comedy        Disney                74   \n27       Sex and the City  Comedy  Warner Bros.                81   \n30               Penelope  Comedy        Summit                74   \n44          Marley and Me  Comedy           Fox                77   \n\n    Profitability  Rotten Tomatoes % Worldwide Gross  Year  \n4        6.267647                 28        $219.37   2008  \n16       7.867500                 43        $314.70   2009  \n27       7.221796                 49        $415.25   2008  \n30       1.382800                 52         $20.74   2008  \n44       3.746782                 63        $206.07   2008  \n"
     ]
    }
   ],
   "source": [
    "# Show the top 5 Comedy movies approved by the audience. (hint : Audience Score)\n",
    "Top_5 = df.loc[(df['Genre'] == 'Comedy') & (df['Audience score %'] >70)]\n",
    "print(Top_5.head(5))"
   ]
  },
  {
   "cell_type": "code",
   "execution_count": null,
   "metadata": {},
   "outputs": [],
   "source": []
  }
 ]
}