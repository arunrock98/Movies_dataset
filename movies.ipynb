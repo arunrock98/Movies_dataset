{
 "metadata": {
  "language_info": {
   "codemirror_mode": {
    "name": "ipython",
    "version": 3
   },
   "file_extension": ".py",
   "mimetype": "text/x-python",
   "name": "python",
   "nbconvert_exporter": "python",
   "pygments_lexer": "ipython3",
   "version": "3.7.4-final"
  },
  "orig_nbformat": 2,
  "kernelspec": {
   "name": "python3",
   "display_name": "Python 3",
   "language": "python"
  }
 },
 "nbformat": 4,
 "nbformat_minor": 2,
 "cells": [
  {
   "cell_type": "code",
   "execution_count": 34,
   "metadata": {},
   "outputs": [],
   "source": [
    "import pandas as pd\n",
    "\n",
    "# import data frame\n",
    "df = pd.read_csv('https://gist.githubusercontent.com/tiangechen/b68782efa49a16edaf07dc2cdaa855ea/raw/0c794a9717f18b094eabab2cd6a6b9a226903577/movies.csv')"
   ]
  },
  {
   "cell_type": "code",
   "execution_count": 35,
   "metadata": {},
   "outputs": [
    {
     "output_type": "execute_result",
     "data": {
      "text/plain": [
       "       Audience score %  Profitability  Rotten Tomatoes %         Year\n",
       "count         77.000000      77.000000          77.000000    77.000000\n",
       "mean          63.727273       4.599483          46.701299  2009.077922\n",
       "std           13.657113       8.031990          26.095001     1.354974\n",
       "min           35.000000       0.000000           3.000000  2007.000000\n",
       "25%           52.000000       1.751351          26.000000  2008.000000\n",
       "50%           64.000000       2.642353          45.000000  2009.000000\n",
       "75%           76.000000       5.103117          64.000000  2010.000000\n",
       "max           89.000000      66.934000          96.000000  2011.000000"
      ],
      "text/html": "<div>\n<style scoped>\n    .dataframe tbody tr th:only-of-type {\n        vertical-align: middle;\n    }\n\n    .dataframe tbody tr th {\n        vertical-align: top;\n    }\n\n    .dataframe thead th {\n        text-align: right;\n    }\n</style>\n<table border=\"1\" class=\"dataframe\">\n  <thead>\n    <tr style=\"text-align: right;\">\n      <th></th>\n      <th>Audience score %</th>\n      <th>Profitability</th>\n      <th>Rotten Tomatoes %</th>\n      <th>Year</th>\n    </tr>\n  </thead>\n  <tbody>\n    <tr>\n      <td>count</td>\n      <td>77.000000</td>\n      <td>77.000000</td>\n      <td>77.000000</td>\n      <td>77.000000</td>\n    </tr>\n    <tr>\n      <td>mean</td>\n      <td>63.727273</td>\n      <td>4.599483</td>\n      <td>46.701299</td>\n      <td>2009.077922</td>\n    </tr>\n    <tr>\n      <td>std</td>\n      <td>13.657113</td>\n      <td>8.031990</td>\n      <td>26.095001</td>\n      <td>1.354974</td>\n    </tr>\n    <tr>\n      <td>min</td>\n      <td>35.000000</td>\n      <td>0.000000</td>\n      <td>3.000000</td>\n      <td>2007.000000</td>\n    </tr>\n    <tr>\n      <td>25%</td>\n      <td>52.000000</td>\n      <td>1.751351</td>\n      <td>26.000000</td>\n      <td>2008.000000</td>\n    </tr>\n    <tr>\n      <td>50%</td>\n      <td>64.000000</td>\n      <td>2.642353</td>\n      <td>45.000000</td>\n      <td>2009.000000</td>\n    </tr>\n    <tr>\n      <td>75%</td>\n      <td>76.000000</td>\n      <td>5.103117</td>\n      <td>64.000000</td>\n      <td>2010.000000</td>\n    </tr>\n    <tr>\n      <td>max</td>\n      <td>89.000000</td>\n      <td>66.934000</td>\n      <td>96.000000</td>\n      <td>2011.000000</td>\n    </tr>\n  </tbody>\n</table>\n</div>"
     },
     "metadata": {},
     "execution_count": 35
    }
   ],
   "source": [
    "df.describe()"
   ]
  },
  {
   "cell_type": "code",
   "execution_count": null,
   "metadata": {},
   "outputs": [],
   "source": []
  },
  {
   "cell_type": "code",
   "execution_count": 36,
   "metadata": {},
   "outputs": [
    {
     "output_type": "execute_result",
     "data": {
      "text/plain": [
       "                                  Film    Genre            Lead Studio  \\\n",
       "0           Zack and Miri Make a Porno  Romance  The Weinstein Company   \n",
       "1                      Youth in Revolt   Comedy  The Weinstein Company   \n",
       "2   You Will Meet a Tall Dark Stranger   Comedy            Independent   \n",
       "3                         When in Rome   Comedy                 Disney   \n",
       "4                What Happens in Vegas   Comedy                    Fox   \n",
       "..                                 ...      ...                    ...   \n",
       "72                 Across the Universe  romance            Independent   \n",
       "73                       A Serious Man    Drama              Universal   \n",
       "74                  A Dangerous Method    Drama            Independent   \n",
       "75                          27 Dresses   Comedy                    Fox   \n",
       "76                (500) Days of Summer   comedy                    Fox   \n",
       "\n",
       "    Audience score %  Profitability  Rotten Tomatoes % Worldwide Gross  Year  \n",
       "0                 70       1.747542                 64         $41.94   2008  \n",
       "1                 52       1.090000                 68         $19.62   2010  \n",
       "2                 35       1.211818                 43         $26.66   2010  \n",
       "3                 44       0.000000                 15         $43.04   2010  \n",
       "4                 72       6.267647                 28        $219.37   2008  \n",
       "..               ...            ...                ...             ...   ...  \n",
       "72                84       0.652603                 54         $29.37   2007  \n",
       "73                64       4.382857                 89         $30.68   2009  \n",
       "74                89       0.448645                 79          $8.97   2011  \n",
       "75                71       5.343622                 40        $160.31   2008  \n",
       "76                81       8.096000                 87         $60.72   2009  \n",
       "\n",
       "[77 rows x 8 columns]"
      ],
      "text/html": "<div>\n<style scoped>\n    .dataframe tbody tr th:only-of-type {\n        vertical-align: middle;\n    }\n\n    .dataframe tbody tr th {\n        vertical-align: top;\n    }\n\n    .dataframe thead th {\n        text-align: right;\n    }\n</style>\n<table border=\"1\" class=\"dataframe\">\n  <thead>\n    <tr style=\"text-align: right;\">\n      <th></th>\n      <th>Film</th>\n      <th>Genre</th>\n      <th>Lead Studio</th>\n      <th>Audience score %</th>\n      <th>Profitability</th>\n      <th>Rotten Tomatoes %</th>\n      <th>Worldwide Gross</th>\n      <th>Year</th>\n    </tr>\n  </thead>\n  <tbody>\n    <tr>\n      <td>0</td>\n      <td>Zack and Miri Make a Porno</td>\n      <td>Romance</td>\n      <td>The Weinstein Company</td>\n      <td>70</td>\n      <td>1.747542</td>\n      <td>64</td>\n      <td>$41.94</td>\n      <td>2008</td>\n    </tr>\n    <tr>\n      <td>1</td>\n      <td>Youth in Revolt</td>\n      <td>Comedy</td>\n      <td>The Weinstein Company</td>\n      <td>52</td>\n      <td>1.090000</td>\n      <td>68</td>\n      <td>$19.62</td>\n      <td>2010</td>\n    </tr>\n    <tr>\n      <td>2</td>\n      <td>You Will Meet a Tall Dark Stranger</td>\n      <td>Comedy</td>\n      <td>Independent</td>\n      <td>35</td>\n      <td>1.211818</td>\n      <td>43</td>\n      <td>$26.66</td>\n      <td>2010</td>\n    </tr>\n    <tr>\n      <td>3</td>\n      <td>When in Rome</td>\n      <td>Comedy</td>\n      <td>Disney</td>\n      <td>44</td>\n      <td>0.000000</td>\n      <td>15</td>\n      <td>$43.04</td>\n      <td>2010</td>\n    </tr>\n    <tr>\n      <td>4</td>\n      <td>What Happens in Vegas</td>\n      <td>Comedy</td>\n      <td>Fox</td>\n      <td>72</td>\n      <td>6.267647</td>\n      <td>28</td>\n      <td>$219.37</td>\n      <td>2008</td>\n    </tr>\n    <tr>\n      <td>...</td>\n      <td>...</td>\n      <td>...</td>\n      <td>...</td>\n      <td>...</td>\n      <td>...</td>\n      <td>...</td>\n      <td>...</td>\n      <td>...</td>\n    </tr>\n    <tr>\n      <td>72</td>\n      <td>Across the Universe</td>\n      <td>romance</td>\n      <td>Independent</td>\n      <td>84</td>\n      <td>0.652603</td>\n      <td>54</td>\n      <td>$29.37</td>\n      <td>2007</td>\n    </tr>\n    <tr>\n      <td>73</td>\n      <td>A Serious Man</td>\n      <td>Drama</td>\n      <td>Universal</td>\n      <td>64</td>\n      <td>4.382857</td>\n      <td>89</td>\n      <td>$30.68</td>\n      <td>2009</td>\n    </tr>\n    <tr>\n      <td>74</td>\n      <td>A Dangerous Method</td>\n      <td>Drama</td>\n      <td>Independent</td>\n      <td>89</td>\n      <td>0.448645</td>\n      <td>79</td>\n      <td>$8.97</td>\n      <td>2011</td>\n    </tr>\n    <tr>\n      <td>75</td>\n      <td>27 Dresses</td>\n      <td>Comedy</td>\n      <td>Fox</td>\n      <td>71</td>\n      <td>5.343622</td>\n      <td>40</td>\n      <td>$160.31</td>\n      <td>2008</td>\n    </tr>\n    <tr>\n      <td>76</td>\n      <td>(500) Days of Summer</td>\n      <td>comedy</td>\n      <td>Fox</td>\n      <td>81</td>\n      <td>8.096000</td>\n      <td>87</td>\n      <td>$60.72</td>\n      <td>2009</td>\n    </tr>\n  </tbody>\n</table>\n<p>77 rows × 8 columns</p>\n</div>"
     },
     "metadata": {},
     "execution_count": 36
    }
   ],
   "source": [
    "df"
   ]
  },
  {
   "cell_type": "code",
   "execution_count": 37,
   "metadata": {},
   "outputs": [
    {
     "output_type": "stream",
     "name": "stdout",
     "text": [
      "First 10 rows of the DataFrame:\n                                 Film      Genre            Lead Studio  \\\n0          Zack and Miri Make a Porno    Romance  The Weinstein Company   \n1                     Youth in Revolt     Comedy  The Weinstein Company   \n2  You Will Meet a Tall Dark Stranger     Comedy            Independent   \n3                        When in Rome     Comedy                 Disney   \n4               What Happens in Vegas     Comedy                    Fox   \n5                 Water For Elephants      Drama       20th Century Fox   \n6                              WALL-E  Animation                 Disney   \n7                            Waitress    Romance            Independent   \n8                 Waiting For Forever    Romance            Independent   \n9                     Valentine's Day     Comedy           Warner Bros.   \n\n   Audience score %  Profitability  Rotten Tomatoes % Worldwide Gross  Year  \n0                70       1.747542                 64         $41.94   2008  \n1                52       1.090000                 68         $19.62   2010  \n2                35       1.211818                 43         $26.66   2010  \n3                44       0.000000                 15         $43.04   2010  \n4                72       6.267647                 28        $219.37   2008  \n5                72       3.081421                 60        $117.09   2011  \n6                89       2.896019                 96        $521.28   2008  \n7                67      11.089741                 89         $22.18   2007  \n8                53       0.005000                  6          $0.03   2011  \n9                54       4.184038                 17        $217.57   2010  \n"
     ]
    }
   ],
   "source": [
    "# printing first 10 recordsr\n",
    "first_records = df.head(10)\n",
    "print(\"First 10 rows of the DataFrame:\")\n",
    "print(first_records)"
   ]
  },
  {
   "cell_type": "code",
   "execution_count": 38,
   "metadata": {},
   "outputs": [
    {
     "output_type": "stream",
     "name": "stdout",
     "text": [
      "Data types of the columns in the dataset\nFilm                  object\nGenre                 object\nLead Studio           object\nAudience score %       int64\nProfitability        float64\nRotten Tomatoes %      int64\nWorldwide Gross       object\nYear                   int64\ndtype: object\n"
     ]
    }
   ],
   "source": [
    "# find the data types of the coloumn\n",
    "\n",
    "Movies_datatypes = df.dtypes\n",
    "print('Data types of the columns in the dataset')\n",
    "print(Movies_datatypes)"
   ]
  },
  {
   "cell_type": "code",
   "execution_count": null,
   "metadata": {},
   "outputs": [],
   "source": []
  },
  {
   "cell_type": "code",
   "execution_count": 39,
   "metadata": {},
   "outputs": [
    {
     "output_type": "stream",
     "name": "stdout",
     "text": [
      "total No.of Animation Movies are  4\n6                WALL-E\n22              Tangled\n64    Gnomeo and Juliet\n65    Gnomeo and Juliet\nName: Film, dtype: object\n"
     ]
    }
   ],
   "source": [
    "# Animation movies - Count\n",
    "Ani_movies = df[df['Genre'] == 'Animation']['Film']\n",
    "print('total No.of Animation Movies are ', Ani_movies.count())\n",
    "print(Ani_movies)\n"
   ]
  },
  {
   "cell_type": "code",
   "execution_count": 40,
   "metadata": {},
   "outputs": [
    {
     "output_type": "execute_result",
     "data": {
      "text/plain": [
       "0     Romance\n",
       "1      Comedy\n",
       "2      Comedy\n",
       "3      Comedy\n",
       "4      Comedy\n",
       "       ...   \n",
       "72    romance\n",
       "73      Drama\n",
       "74      Drama\n",
       "75     Comedy\n",
       "76     comedy\n",
       "Name: Genre, Length: 77, dtype: object"
      ]
     },
     "metadata": {},
     "execution_count": 40
    }
   ],
   "source": [
    "df['Genre']"
   ]
  },
  {
   "cell_type": "code",
   "execution_count": 41,
   "metadata": {},
   "outputs": [],
   "source": [
    "df['Genre'].replace(['Comdy','comedy','Romence','romance'],['Comedy','Comedy','Romance','Romance'],inplace = True)"
   ]
  },
  {
   "cell_type": "code",
   "execution_count": 42,
   "metadata": {},
   "outputs": [
    {
     "output_type": "execute_result",
     "data": {
      "text/plain": [
       "55.84415584415584"
      ]
     },
     "metadata": {},
     "execution_count": 42
    }
   ],
   "source": [
    "((df[df['Genre'] == 'Comedy']['Film'].count()) / (df['Film'].count()))*100 "
   ]
  },
  {
   "cell_type": "code",
   "execution_count": 43,
   "metadata": {},
   "outputs": [
    {
     "output_type": "stream",
     "name": "stdout",
     "text": [
      "                  Film   Genre   Lead Studio  Audience score %  Profitability  \\\n18  The Heartbreak Kid  Comedy     Paramount                41       2.129444   \n36     No Reservations  Comedy  Warner Bros.                64       3.307180   \n51      License to Wed  Comedy  Warner Bros.                55       1.980206   \n54          Knocked Up  Comedy     Universal                83       6.636402   \n62     Good Luck Chuck  Comedy     Lionsgate                61       2.367685   \n69           Enchanted  Comedy        Disney                80       4.005737   \n\n    Rotten Tomatoes % Worldwide Gross  Year  \n18                 30        $127.77   2007  \n36                 39         $92.60   2007  \n51                  8         $69.31   2007  \n54                 91           $219   2007  \n62                  3         $59.19   2007  \n69                 93        $340.49   2007  \n"
     ]
    }
   ],
   "source": [
    "# comedy movies released on 2007\n",
    "comedy_movies = df[(df['Year'] == 2007) & (df['Genre'] == 'Comedy')]\n",
    "print(comedy_movies)"
   ]
  },
  {
   "cell_type": "code",
   "execution_count": 44,
   "metadata": {},
   "outputs": [
    {
     "output_type": "stream",
     "name": "stdout",
     "text": [
      "6      WALL-E\n22    Tangled\nName: Film, dtype: object\nNo.of Animation movies scored more than 70 =  2\n"
     ]
    }
   ],
   "source": [
    "\n",
    "# Animation movies have more thatn 70% Audience score\n",
    "AniMov_70 = df.loc[(df['Genre'] == 'Animation') & (df['Audience score %'] >70)]['Film']\n",
    "print(AniMov_70)\n",
    "print('No.of Animation movies scored more than 70 = ' ,  AniMov_70.count())\n"
   ]
  },
  {
   "cell_type": "code",
   "execution_count": 45,
   "metadata": {},
   "outputs": [
    {
     "output_type": "execute_result",
     "data": {
      "text/plain": [
       "                                  Film    Genre  Lead Studio  \\\n",
       "68                           Fireproof    Drama  Independent   \n",
       "60  High School Musical 3: Senior Year   Comedy       Disney   \n",
       "14         The Twilight Saga: New Moon    Drama       Summit   \n",
       "7                             Waitress  Romance  Independent   \n",
       "12                            Twilight  Romance       Summit   \n",
       "\n",
       "    Audience score %  Profitability  Rotten Tomatoes % Worldwide Gross  Year  \n",
       "68                51      66.934000                 40         $33.47   2008  \n",
       "60                76      22.913136                 65        $252.04   2008  \n",
       "14                78      14.196400                 27        $709.82   2009  \n",
       "7                 67      11.089741                 89         $22.18   2007  \n",
       "12                82      10.180027                 49        $376.66   2008  "
      ],
      "text/html": "<div>\n<style scoped>\n    .dataframe tbody tr th:only-of-type {\n        vertical-align: middle;\n    }\n\n    .dataframe tbody tr th {\n        vertical-align: top;\n    }\n\n    .dataframe thead th {\n        text-align: right;\n    }\n</style>\n<table border=\"1\" class=\"dataframe\">\n  <thead>\n    <tr style=\"text-align: right;\">\n      <th></th>\n      <th>Film</th>\n      <th>Genre</th>\n      <th>Lead Studio</th>\n      <th>Audience score %</th>\n      <th>Profitability</th>\n      <th>Rotten Tomatoes %</th>\n      <th>Worldwide Gross</th>\n      <th>Year</th>\n    </tr>\n  </thead>\n  <tbody>\n    <tr>\n      <td>68</td>\n      <td>Fireproof</td>\n      <td>Drama</td>\n      <td>Independent</td>\n      <td>51</td>\n      <td>66.934000</td>\n      <td>40</td>\n      <td>$33.47</td>\n      <td>2008</td>\n    </tr>\n    <tr>\n      <td>60</td>\n      <td>High School Musical 3: Senior Year</td>\n      <td>Comedy</td>\n      <td>Disney</td>\n      <td>76</td>\n      <td>22.913136</td>\n      <td>65</td>\n      <td>$252.04</td>\n      <td>2008</td>\n    </tr>\n    <tr>\n      <td>14</td>\n      <td>The Twilight Saga: New Moon</td>\n      <td>Drama</td>\n      <td>Summit</td>\n      <td>78</td>\n      <td>14.196400</td>\n      <td>27</td>\n      <td>$709.82</td>\n      <td>2009</td>\n    </tr>\n    <tr>\n      <td>7</td>\n      <td>Waitress</td>\n      <td>Romance</td>\n      <td>Independent</td>\n      <td>67</td>\n      <td>11.089741</td>\n      <td>89</td>\n      <td>$22.18</td>\n      <td>2007</td>\n    </tr>\n    <tr>\n      <td>12</td>\n      <td>Twilight</td>\n      <td>Romance</td>\n      <td>Summit</td>\n      <td>82</td>\n      <td>10.180027</td>\n      <td>49</td>\n      <td>$376.66</td>\n      <td>2008</td>\n    </tr>\n  </tbody>\n</table>\n</div>"
     },
     "metadata": {},
     "execution_count": 45
    }
   ],
   "source": [
    "# Top 5  profitability movies\n",
    "df.sort_values(by = 'Profitability', ascending = False ).head(5)"
   ]
  },
  {
   "cell_type": "code",
   "execution_count": 52,
   "metadata": {},
   "outputs": [
    {
     "output_type": "execute_result",
     "data": {
      "text/plain": [
       "                    Film   Genre   Lead Studio  Audience score %  \\\n",
       "54            Knocked Up  Comedy     Universal                83   \n",
       "27      Sex and the City  Comedy  Warner Bros.                81   \n",
       "76  (500) Days of Summer  Comedy           Fox                81   \n",
       "69             Enchanted  Comedy        Disney                80   \n",
       "71             Beginners  Comedy   Independent                80   \n",
       "\n",
       "    Profitability  Rotten Tomatoes % Worldwide Gross  Year  \n",
       "54       6.636402                 91           $219   2007  \n",
       "27       7.221796                 49        $415.25   2008  \n",
       "76       8.096000                 87         $60.72   2009  \n",
       "69       4.005737                 93        $340.49   2007  \n",
       "71       4.471875                 84         $14.31   2011  "
      ],
      "text/html": "<div>\n<style scoped>\n    .dataframe tbody tr th:only-of-type {\n        vertical-align: middle;\n    }\n\n    .dataframe tbody tr th {\n        vertical-align: top;\n    }\n\n    .dataframe thead th {\n        text-align: right;\n    }\n</style>\n<table border=\"1\" class=\"dataframe\">\n  <thead>\n    <tr style=\"text-align: right;\">\n      <th></th>\n      <th>Film</th>\n      <th>Genre</th>\n      <th>Lead Studio</th>\n      <th>Audience score %</th>\n      <th>Profitability</th>\n      <th>Rotten Tomatoes %</th>\n      <th>Worldwide Gross</th>\n      <th>Year</th>\n    </tr>\n  </thead>\n  <tbody>\n    <tr>\n      <td>54</td>\n      <td>Knocked Up</td>\n      <td>Comedy</td>\n      <td>Universal</td>\n      <td>83</td>\n      <td>6.636402</td>\n      <td>91</td>\n      <td>$219</td>\n      <td>2007</td>\n    </tr>\n    <tr>\n      <td>27</td>\n      <td>Sex and the City</td>\n      <td>Comedy</td>\n      <td>Warner Bros.</td>\n      <td>81</td>\n      <td>7.221796</td>\n      <td>49</td>\n      <td>$415.25</td>\n      <td>2008</td>\n    </tr>\n    <tr>\n      <td>76</td>\n      <td>(500) Days of Summer</td>\n      <td>Comedy</td>\n      <td>Fox</td>\n      <td>81</td>\n      <td>8.096000</td>\n      <td>87</td>\n      <td>$60.72</td>\n      <td>2009</td>\n    </tr>\n    <tr>\n      <td>69</td>\n      <td>Enchanted</td>\n      <td>Comedy</td>\n      <td>Disney</td>\n      <td>80</td>\n      <td>4.005737</td>\n      <td>93</td>\n      <td>$340.49</td>\n      <td>2007</td>\n    </tr>\n    <tr>\n      <td>71</td>\n      <td>Beginners</td>\n      <td>Comedy</td>\n      <td>Independent</td>\n      <td>80</td>\n      <td>4.471875</td>\n      <td>84</td>\n      <td>$14.31</td>\n      <td>2011</td>\n    </tr>\n  </tbody>\n</table>\n</div>"
     },
     "metadata": {},
     "execution_count": 52
    }
   ],
   "source": [
    "# Show the top 5 Comedy movies approved by the audience. (hint : Audience Score)\n",
    "Top_5 = df.loc[(df['Genre'] == 'Comedy') & (df['Audience score %'] >70)]\n",
    "Top_5.sort_values(by=['Audience score %'],ascending=False).head(5)"
   ]
  },
  {
   "cell_type": "code",
   "execution_count": 53,
   "metadata": {},
   "outputs": [],
   "source": [
    "world_gross_string = df[\"Worldwide Gross\"].str.replace('$', '')\n",
    "\n",
    "world_gross_number = pd.to_numeric(world_gross_string)\n",
    "world_gross_number\n",
    "df[\"Worldwide Gross\"] = world_gross_number"
   ]
  },
  {
   "cell_type": "code",
   "execution_count": 55,
   "metadata": {},
   "outputs": [
    {
     "output_type": "execute_result",
     "data": {
      "text/plain": [
       "                                  Film    Genre            Lead Studio  \\\n",
       "0           Zack and Miri Make a Porno  Romance  The Weinstein Company   \n",
       "1                      Youth in Revolt   Comedy  The Weinstein Company   \n",
       "2   You Will Meet a Tall Dark Stranger   Comedy            Independent   \n",
       "3                         When in Rome   Comedy                 Disney   \n",
       "4                What Happens in Vegas   Comedy                    Fox   \n",
       "..                                 ...      ...                    ...   \n",
       "72                 Across the Universe  Romance            Independent   \n",
       "73                       A Serious Man    Drama              Universal   \n",
       "74                  A Dangerous Method    Drama            Independent   \n",
       "75                          27 Dresses   Comedy                    Fox   \n",
       "76                (500) Days of Summer   Comedy                    Fox   \n",
       "\n",
       "    Audience score %  Profitability  Rotten Tomatoes %  Worldwide Gross  Year  \n",
       "0                 70       1.747542                 64            41.94  2008  \n",
       "1                 52       1.090000                 68            19.62  2010  \n",
       "2                 35       1.211818                 43            26.66  2010  \n",
       "3                 44       0.000000                 15            43.04  2010  \n",
       "4                 72       6.267647                 28           219.37  2008  \n",
       "..               ...            ...                ...              ...   ...  \n",
       "72                84       0.652603                 54            29.37  2007  \n",
       "73                64       4.382857                 89            30.68  2009  \n",
       "74                89       0.448645                 79             8.97  2011  \n",
       "75                71       5.343622                 40           160.31  2008  \n",
       "76                81       8.096000                 87            60.72  2009  \n",
       "\n",
       "[77 rows x 8 columns]"
      ],
      "text/html": "<div>\n<style scoped>\n    .dataframe tbody tr th:only-of-type {\n        vertical-align: middle;\n    }\n\n    .dataframe tbody tr th {\n        vertical-align: top;\n    }\n\n    .dataframe thead th {\n        text-align: right;\n    }\n</style>\n<table border=\"1\" class=\"dataframe\">\n  <thead>\n    <tr style=\"text-align: right;\">\n      <th></th>\n      <th>Film</th>\n      <th>Genre</th>\n      <th>Lead Studio</th>\n      <th>Audience score %</th>\n      <th>Profitability</th>\n      <th>Rotten Tomatoes %</th>\n      <th>Worldwide Gross</th>\n      <th>Year</th>\n    </tr>\n  </thead>\n  <tbody>\n    <tr>\n      <td>0</td>\n      <td>Zack and Miri Make a Porno</td>\n      <td>Romance</td>\n      <td>The Weinstein Company</td>\n      <td>70</td>\n      <td>1.747542</td>\n      <td>64</td>\n      <td>41.94</td>\n      <td>2008</td>\n    </tr>\n    <tr>\n      <td>1</td>\n      <td>Youth in Revolt</td>\n      <td>Comedy</td>\n      <td>The Weinstein Company</td>\n      <td>52</td>\n      <td>1.090000</td>\n      <td>68</td>\n      <td>19.62</td>\n      <td>2010</td>\n    </tr>\n    <tr>\n      <td>2</td>\n      <td>You Will Meet a Tall Dark Stranger</td>\n      <td>Comedy</td>\n      <td>Independent</td>\n      <td>35</td>\n      <td>1.211818</td>\n      <td>43</td>\n      <td>26.66</td>\n      <td>2010</td>\n    </tr>\n    <tr>\n      <td>3</td>\n      <td>When in Rome</td>\n      <td>Comedy</td>\n      <td>Disney</td>\n      <td>44</td>\n      <td>0.000000</td>\n      <td>15</td>\n      <td>43.04</td>\n      <td>2010</td>\n    </tr>\n    <tr>\n      <td>4</td>\n      <td>What Happens in Vegas</td>\n      <td>Comedy</td>\n      <td>Fox</td>\n      <td>72</td>\n      <td>6.267647</td>\n      <td>28</td>\n      <td>219.37</td>\n      <td>2008</td>\n    </tr>\n    <tr>\n      <td>...</td>\n      <td>...</td>\n      <td>...</td>\n      <td>...</td>\n      <td>...</td>\n      <td>...</td>\n      <td>...</td>\n      <td>...</td>\n      <td>...</td>\n    </tr>\n    <tr>\n      <td>72</td>\n      <td>Across the Universe</td>\n      <td>Romance</td>\n      <td>Independent</td>\n      <td>84</td>\n      <td>0.652603</td>\n      <td>54</td>\n      <td>29.37</td>\n      <td>2007</td>\n    </tr>\n    <tr>\n      <td>73</td>\n      <td>A Serious Man</td>\n      <td>Drama</td>\n      <td>Universal</td>\n      <td>64</td>\n      <td>4.382857</td>\n      <td>89</td>\n      <td>30.68</td>\n      <td>2009</td>\n    </tr>\n    <tr>\n      <td>74</td>\n      <td>A Dangerous Method</td>\n      <td>Drama</td>\n      <td>Independent</td>\n      <td>89</td>\n      <td>0.448645</td>\n      <td>79</td>\n      <td>8.97</td>\n      <td>2011</td>\n    </tr>\n    <tr>\n      <td>75</td>\n      <td>27 Dresses</td>\n      <td>Comedy</td>\n      <td>Fox</td>\n      <td>71</td>\n      <td>5.343622</td>\n      <td>40</td>\n      <td>160.31</td>\n      <td>2008</td>\n    </tr>\n    <tr>\n      <td>76</td>\n      <td>(500) Days of Summer</td>\n      <td>Comedy</td>\n      <td>Fox</td>\n      <td>81</td>\n      <td>8.096000</td>\n      <td>87</td>\n      <td>60.72</td>\n      <td>2009</td>\n    </tr>\n  </tbody>\n</table>\n<p>77 rows × 8 columns</p>\n</div>"
     },
     "metadata": {},
     "execution_count": 55
    }
   ],
   "source": [
    "df"
   ]
  },
  {
   "cell_type": "code",
   "execution_count": 56,
   "metadata": {},
   "outputs": [
    {
     "output_type": "execute_result",
     "data": {
      "text/plain": [
       "       Film      Genre Lead Studio  Audience score %  Profitability  \\\n",
       "6    WALL-E  Animation      Disney                89       2.896019   \n",
       "22  Tangled  Animation      Disney                88       1.365692   \n",
       "\n",
       "    Rotten Tomatoes %  Worldwide Gross  Year  \n",
       "6                  96           521.28  2008  \n",
       "22                 89           355.01  2010  "
      ],
      "text/html": "<div>\n<style scoped>\n    .dataframe tbody tr th:only-of-type {\n        vertical-align: middle;\n    }\n\n    .dataframe tbody tr th {\n        vertical-align: top;\n    }\n\n    .dataframe thead th {\n        text-align: right;\n    }\n</style>\n<table border=\"1\" class=\"dataframe\">\n  <thead>\n    <tr style=\"text-align: right;\">\n      <th></th>\n      <th>Film</th>\n      <th>Genre</th>\n      <th>Lead Studio</th>\n      <th>Audience score %</th>\n      <th>Profitability</th>\n      <th>Rotten Tomatoes %</th>\n      <th>Worldwide Gross</th>\n      <th>Year</th>\n    </tr>\n  </thead>\n  <tbody>\n    <tr>\n      <td>6</td>\n      <td>WALL-E</td>\n      <td>Animation</td>\n      <td>Disney</td>\n      <td>89</td>\n      <td>2.896019</td>\n      <td>96</td>\n      <td>521.28</td>\n      <td>2008</td>\n    </tr>\n    <tr>\n      <td>22</td>\n      <td>Tangled</td>\n      <td>Animation</td>\n      <td>Disney</td>\n      <td>88</td>\n      <td>1.365692</td>\n      <td>89</td>\n      <td>355.01</td>\n      <td>2010</td>\n    </tr>\n  </tbody>\n</table>\n</div>"
     },
     "metadata": {},
     "execution_count": 56
    }
   ],
   "source": [
    "df[(df[\"Audience score %\"] > 70) & (df[\"Worldwide Gross\"] > 350)& (df[\"Genre\"] == \"Animation\")]\n"
   ]
  },
  {
   "cell_type": "code",
   "execution_count": 67,
   "metadata": {},
   "outputs": [
    {
     "output_type": "execute_result",
     "data": {
      "text/plain": [
       "       Film      Genre Lead Studio  Audience score %  Profitability  \\\n",
       "22  Tangled  Animation      Disney                88       1.365692   \n",
       "\n",
       "    Rotten Tomatoes %  Worldwide Gross  Year  \n",
       "22                 89           355.01  2010  "
      ],
      "text/html": "<div>\n<style scoped>\n    .dataframe tbody tr th:only-of-type {\n        vertical-align: middle;\n    }\n\n    .dataframe tbody tr th {\n        vertical-align: top;\n    }\n\n    .dataframe thead th {\n        text-align: right;\n    }\n</style>\n<table border=\"1\" class=\"dataframe\">\n  <thead>\n    <tr style=\"text-align: right;\">\n      <th></th>\n      <th>Film</th>\n      <th>Genre</th>\n      <th>Lead Studio</th>\n      <th>Audience score %</th>\n      <th>Profitability</th>\n      <th>Rotten Tomatoes %</th>\n      <th>Worldwide Gross</th>\n      <th>Year</th>\n    </tr>\n  </thead>\n  <tbody>\n    <tr>\n      <td>22</td>\n      <td>Tangled</td>\n      <td>Animation</td>\n      <td>Disney</td>\n      <td>88</td>\n      <td>1.365692</td>\n      <td>89</td>\n      <td>355.01</td>\n      <td>2010</td>\n    </tr>\n  </tbody>\n</table>\n</div>"
     },
     "metadata": {},
     "execution_count": 67
    }
   ],
   "source": [
    "#Top 3 high gross Romance movies produced by Disney after 2008\n",
    "\n",
    "High_gross = df[(df[\"Genre\"] == \"Animation\") & (df[\"Lead Studio\"] == \"Disney\") & (df[\"Year\"] > 2008)]\n",
    "High_gross.sort_values(by=[\"Worldwide Gross\"]).tail(1)"
   ]
  },
  {
   "cell_type": "code",
   "execution_count": 66,
   "metadata": {},
   "outputs": [
    {
     "output_type": "stream",
     "name": "stdout",
     "text": [
      "Lead Studios are  Independent              19\nWarner Bros.             14\nUniversal                 8\nDisney                    8\nFox                       6\nSummit                    5\nParamount                 4\nSony                      4\nThe Weinstein Company     3\n20th Century Fox          2\nLionsgate                 2\nCBS                       1\nNew Line                  1\nName: Lead Studio, dtype: int64\nNumber of Lead Studios are  13\n"
     ]
    }
   ],
   "source": [
    "# How many Lead Studios are present in the dataframe ?\n",
    "Lead_studios = df['Lead Studio'].value_counts()\n",
    "print('Lead Studios are ',Lead_studios)\n",
    "print('Number of Lead Studios are ', Lead_studios.count())"
   ]
  },
  {
   "cell_type": "code",
   "execution_count": 74,
   "metadata": {},
   "outputs": [
    {
     "output_type": "execute_result",
     "data": {
      "text/plain": [
       "                 Film      Genre Lead Studio  Audience score %  Profitability  \\\n",
       "16       The Proposal     Comedy      Disney                74       7.867500   \n",
       "64  Gnomeo and Juliet  Animation      Disney                52       5.387972   \n",
       "65  Gnomeo and Juliet  Animation      Disney                52       5.387972   \n",
       "22            Tangled  Animation      Disney                88       1.365692   \n",
       "3        When in Rome     Comedy      Disney                44       0.000000   \n",
       "\n",
       "    Rotten Tomatoes %  Worldwide Gross  Year  \n",
       "16                 43           314.70  2009  \n",
       "64                 56           193.97  2011  \n",
       "65                 56           193.97  2011  \n",
       "22                 89           355.01  2010  \n",
       "3                  15            43.04  2010  "
      ],
      "text/html": "<div>\n<style scoped>\n    .dataframe tbody tr th:only-of-type {\n        vertical-align: middle;\n    }\n\n    .dataframe tbody tr th {\n        vertical-align: top;\n    }\n\n    .dataframe thead th {\n        text-align: right;\n    }\n</style>\n<table border=\"1\" class=\"dataframe\">\n  <thead>\n    <tr style=\"text-align: right;\">\n      <th></th>\n      <th>Film</th>\n      <th>Genre</th>\n      <th>Lead Studio</th>\n      <th>Audience score %</th>\n      <th>Profitability</th>\n      <th>Rotten Tomatoes %</th>\n      <th>Worldwide Gross</th>\n      <th>Year</th>\n    </tr>\n  </thead>\n  <tbody>\n    <tr>\n      <td>16</td>\n      <td>The Proposal</td>\n      <td>Comedy</td>\n      <td>Disney</td>\n      <td>74</td>\n      <td>7.867500</td>\n      <td>43</td>\n      <td>314.70</td>\n      <td>2009</td>\n    </tr>\n    <tr>\n      <td>64</td>\n      <td>Gnomeo and Juliet</td>\n      <td>Animation</td>\n      <td>Disney</td>\n      <td>52</td>\n      <td>5.387972</td>\n      <td>56</td>\n      <td>193.97</td>\n      <td>2011</td>\n    </tr>\n    <tr>\n      <td>65</td>\n      <td>Gnomeo and Juliet</td>\n      <td>Animation</td>\n      <td>Disney</td>\n      <td>52</td>\n      <td>5.387972</td>\n      <td>56</td>\n      <td>193.97</td>\n      <td>2011</td>\n    </tr>\n    <tr>\n      <td>22</td>\n      <td>Tangled</td>\n      <td>Animation</td>\n      <td>Disney</td>\n      <td>88</td>\n      <td>1.365692</td>\n      <td>89</td>\n      <td>355.01</td>\n      <td>2010</td>\n    </tr>\n    <tr>\n      <td>3</td>\n      <td>When in Rome</td>\n      <td>Comedy</td>\n      <td>Disney</td>\n      <td>44</td>\n      <td>0.000000</td>\n      <td>15</td>\n      <td>43.04</td>\n      <td>2010</td>\n    </tr>\n  </tbody>\n</table>\n</div>"
     },
     "metadata": {},
     "execution_count": 74
    }
   ],
   "source": [
    "# Top 5 profitable movies produced by Disney after 2008 (measured by Profitability index)\n",
    " \n",
    "Disney_top = df[(df[\"Lead Studio\"] == \"Disney\") & (df[\"Year\"] > 2008)]\n",
    "Disney_top.sort_values(by = ['Profitability'],ascending = False)"
   ]
  },
  {
   "cell_type": "code",
   "execution_count": 76,
   "metadata": {},
   "outputs": [
    {
     "output_type": "execute_result",
     "data": {
      "text/plain": [
       "'Warner Bros.'"
      ]
     },
     "metadata": {},
     "execution_count": 76
    }
   ],
   "source": [
    "# Most & Least Frequent lead studio in the dataset in terms of occurances.\n",
    "df ['Lead Studio'].max()"
   ]
  },
  {
   "cell_type": "code",
   "execution_count": 77,
   "metadata": {},
   "outputs": [
    {
     "output_type": "execute_result",
     "data": {
      "text/plain": [
       "'20th Century Fox'"
      ]
     },
     "metadata": {},
     "execution_count": 77
    }
   ],
   "source": [
    "#Least Frequent lead studio in the dataset in terms of occurances.\n",
    "df['Lead Studio'].min()"
   ]
  },
  {
   "cell_type": "code",
   "execution_count": 108,
   "metadata": {},
   "outputs": [
    {
     "output_type": "execute_result",
     "data": {
      "text/plain": [
       "                       Audience score %  Profitability  Rotten Tomatoes %  \\\n",
       "Lead Studio                                                                 \n",
       "20th Century Fox                    122       5.064621                 98   \n",
       "CBS                                  47       2.202571                 20   \n",
       "Disney                              555      49.824029                513   \n",
       "Fox                                 414      27.069134                311   \n",
       "Independent                        1191     118.476823                864   \n",
       "Lionsgate                           106       3.613018                 14   \n",
       "New Line                             47       2.071000                 15   \n",
       "Paramount                           234      10.376000                185   \n",
       "Sony                                278      19.345304                208   \n",
       "Summit                              366      31.889810                196   \n",
       "The Weinstein Company               206       3.663342                215   \n",
       "Universal                           528      35.850227                466   \n",
       "Warner Bros.                        813      44.714343                491   \n",
       "\n",
       "                       Worldwide Gross   Year  \n",
       "Lead Studio                                    \n",
       "20th Century Fox                156.75   4022  \n",
       "CBS                              77.09   2010  \n",
       "Disney                         2214.50  16074  \n",
       "Fox                             722.57  12053  \n",
       "Independent                    1546.94  38176  \n",
       "Lionsgate                       152.59   4017  \n",
       "New Line                         20.71   2008  \n",
       "Paramount                       321.22   8034  \n",
       "Sony                            403.12   8037  \n",
       "Summit                         1242.26  10045  \n",
       "The Weinstein Company            69.82   6029  \n",
       "Universal                      1792.04  16071  \n",
       "Warner Bros.                   2462.14  28123  "
      ],
      "text/html": "<div>\n<style scoped>\n    .dataframe tbody tr th:only-of-type {\n        vertical-align: middle;\n    }\n\n    .dataframe tbody tr th {\n        vertical-align: top;\n    }\n\n    .dataframe thead th {\n        text-align: right;\n    }\n</style>\n<table border=\"1\" class=\"dataframe\">\n  <thead>\n    <tr style=\"text-align: right;\">\n      <th></th>\n      <th>Audience score %</th>\n      <th>Profitability</th>\n      <th>Rotten Tomatoes %</th>\n      <th>Worldwide Gross</th>\n      <th>Year</th>\n    </tr>\n    <tr>\n      <th>Lead Studio</th>\n      <th></th>\n      <th></th>\n      <th></th>\n      <th></th>\n      <th></th>\n    </tr>\n  </thead>\n  <tbody>\n    <tr>\n      <td>20th Century Fox</td>\n      <td>122</td>\n      <td>5.064621</td>\n      <td>98</td>\n      <td>156.75</td>\n      <td>4022</td>\n    </tr>\n    <tr>\n      <td>CBS</td>\n      <td>47</td>\n      <td>2.202571</td>\n      <td>20</td>\n      <td>77.09</td>\n      <td>2010</td>\n    </tr>\n    <tr>\n      <td>Disney</td>\n      <td>555</td>\n      <td>49.824029</td>\n      <td>513</td>\n      <td>2214.50</td>\n      <td>16074</td>\n    </tr>\n    <tr>\n      <td>Fox</td>\n      <td>414</td>\n      <td>27.069134</td>\n      <td>311</td>\n      <td>722.57</td>\n      <td>12053</td>\n    </tr>\n    <tr>\n      <td>Independent</td>\n      <td>1191</td>\n      <td>118.476823</td>\n      <td>864</td>\n      <td>1546.94</td>\n      <td>38176</td>\n    </tr>\n    <tr>\n      <td>Lionsgate</td>\n      <td>106</td>\n      <td>3.613018</td>\n      <td>14</td>\n      <td>152.59</td>\n      <td>4017</td>\n    </tr>\n    <tr>\n      <td>New Line</td>\n      <td>47</td>\n      <td>2.071000</td>\n      <td>15</td>\n      <td>20.71</td>\n      <td>2008</td>\n    </tr>\n    <tr>\n      <td>Paramount</td>\n      <td>234</td>\n      <td>10.376000</td>\n      <td>185</td>\n      <td>321.22</td>\n      <td>8034</td>\n    </tr>\n    <tr>\n      <td>Sony</td>\n      <td>278</td>\n      <td>19.345304</td>\n      <td>208</td>\n      <td>403.12</td>\n      <td>8037</td>\n    </tr>\n    <tr>\n      <td>Summit</td>\n      <td>366</td>\n      <td>31.889810</td>\n      <td>196</td>\n      <td>1242.26</td>\n      <td>10045</td>\n    </tr>\n    <tr>\n      <td>The Weinstein Company</td>\n      <td>206</td>\n      <td>3.663342</td>\n      <td>215</td>\n      <td>69.82</td>\n      <td>6029</td>\n    </tr>\n    <tr>\n      <td>Universal</td>\n      <td>528</td>\n      <td>35.850227</td>\n      <td>466</td>\n      <td>1792.04</td>\n      <td>16071</td>\n    </tr>\n    <tr>\n      <td>Warner Bros.</td>\n      <td>813</td>\n      <td>44.714343</td>\n      <td>491</td>\n      <td>2462.14</td>\n      <td>28123</td>\n    </tr>\n  </tbody>\n</table>\n</div>"
     },
     "metadata": {},
     "execution_count": 108
    }
   ],
   "source": [
    "# Most and Least profitable Lead Studio. (Take an average of all Profitability measures grouped by Lead studios)\n",
    "df['Profitability'].mean() \n",
    "df.groupby(by=['Lead Studio']).sum()\n"
   ]
  },
  {
   "cell_type": "code",
   "execution_count": 111,
   "metadata": {},
   "outputs": [
    {
     "output_type": "execute_result",
     "data": {
      "text/plain": [
       "         Lead Studio  Profitability  Audience score %  Rotten Tomatoes %  \\\n",
       "0   20th Century Fox       1.983200                50                 38   \n",
       "1   20th Century Fox       3.081421                72                 60   \n",
       "2                CBS       2.202571                47                 20   \n",
       "3             Disney       0.000000                44                 15   \n",
       "4             Disney       1.365692                88                 89   \n",
       "..               ...            ...               ...                ...   \n",
       "69      Warner Bros.       3.307180                64                 39   \n",
       "70      Warner Bros.       3.647411                70                 63   \n",
       "71      Warner Bros.       4.184038                54                 17   \n",
       "72      Warner Bros.       7.153600                60                 42   \n",
       "73      Warner Bros.       7.221796                81                 49   \n",
       "\n",
       "    Worldwide Gross  Year  \n",
       "0             39.66  2011  \n",
       "1            117.09  2011  \n",
       "2             77.09  2010  \n",
       "3             43.04  2010  \n",
       "4            355.01  2010  \n",
       "..              ...   ...  \n",
       "69            92.60  2007  \n",
       "70           145.90  2007  \n",
       "71           217.57  2010  \n",
       "72           178.84  2009  \n",
       "73           415.25  2008  \n",
       "\n",
       "[74 rows x 6 columns]"
      ],
      "text/html": "<div>\n<style scoped>\n    .dataframe tbody tr th:only-of-type {\n        vertical-align: middle;\n    }\n\n    .dataframe tbody tr th {\n        vertical-align: top;\n    }\n\n    .dataframe thead th {\n        text-align: right;\n    }\n</style>\n<table border=\"1\" class=\"dataframe\">\n  <thead>\n    <tr style=\"text-align: right;\">\n      <th></th>\n      <th>Lead Studio</th>\n      <th>Profitability</th>\n      <th>Audience score %</th>\n      <th>Rotten Tomatoes %</th>\n      <th>Worldwide Gross</th>\n      <th>Year</th>\n    </tr>\n  </thead>\n  <tbody>\n    <tr>\n      <td>0</td>\n      <td>20th Century Fox</td>\n      <td>1.983200</td>\n      <td>50</td>\n      <td>38</td>\n      <td>39.66</td>\n      <td>2011</td>\n    </tr>\n    <tr>\n      <td>1</td>\n      <td>20th Century Fox</td>\n      <td>3.081421</td>\n      <td>72</td>\n      <td>60</td>\n      <td>117.09</td>\n      <td>2011</td>\n    </tr>\n    <tr>\n      <td>2</td>\n      <td>CBS</td>\n      <td>2.202571</td>\n      <td>47</td>\n      <td>20</td>\n      <td>77.09</td>\n      <td>2010</td>\n    </tr>\n    <tr>\n      <td>3</td>\n      <td>Disney</td>\n      <td>0.000000</td>\n      <td>44</td>\n      <td>15</td>\n      <td>43.04</td>\n      <td>2010</td>\n    </tr>\n    <tr>\n      <td>4</td>\n      <td>Disney</td>\n      <td>1.365692</td>\n      <td>88</td>\n      <td>89</td>\n      <td>355.01</td>\n      <td>2010</td>\n    </tr>\n    <tr>\n      <td>...</td>\n      <td>...</td>\n      <td>...</td>\n      <td>...</td>\n      <td>...</td>\n      <td>...</td>\n      <td>...</td>\n    </tr>\n    <tr>\n      <td>69</td>\n      <td>Warner Bros.</td>\n      <td>3.307180</td>\n      <td>64</td>\n      <td>39</td>\n      <td>92.60</td>\n      <td>2007</td>\n    </tr>\n    <tr>\n      <td>70</td>\n      <td>Warner Bros.</td>\n      <td>3.647411</td>\n      <td>70</td>\n      <td>63</td>\n      <td>145.90</td>\n      <td>2007</td>\n    </tr>\n    <tr>\n      <td>71</td>\n      <td>Warner Bros.</td>\n      <td>4.184038</td>\n      <td>54</td>\n      <td>17</td>\n      <td>217.57</td>\n      <td>2010</td>\n    </tr>\n    <tr>\n      <td>72</td>\n      <td>Warner Bros.</td>\n      <td>7.153600</td>\n      <td>60</td>\n      <td>42</td>\n      <td>178.84</td>\n      <td>2009</td>\n    </tr>\n    <tr>\n      <td>73</td>\n      <td>Warner Bros.</td>\n      <td>7.221796</td>\n      <td>81</td>\n      <td>49</td>\n      <td>415.25</td>\n      <td>2008</td>\n    </tr>\n  </tbody>\n</table>\n<p>74 rows × 6 columns</p>\n</div>"
     },
     "metadata": {},
     "execution_count": 111
    }
   ],
   "source": [
    "df.groupby(['Lead Studio','Profitability']).mean().reset_index()"
   ]
  },
  {
   "cell_type": "code",
   "execution_count": null,
   "metadata": {},
   "outputs": [],
   "source": []
  }
 ]
}